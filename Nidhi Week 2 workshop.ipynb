{
 "cells": [
  {
   "cell_type": "markdown",
   "id": "f7037ac9-3c17-4822-9187-b9943df45598",
   "metadata": {},
   "source": [
    "#### assignment- Python Workshop week 2\n",
    "#### By Nidhi Sehgal\n",
    "\n",
    "#### This workshop is designed to reinforce the key concepts covered in the Python Data Analytics Bootcamp. We'll go through a series of exercises covering:\n",
    "\n",
    "#### Conditional Statements\n",
    "#### Functions\n",
    "#### Lists\n",
    "#### Dictionaries\n",
    "#### Loops\n"
   ]
  },
  {
   "cell_type": "raw",
   "id": "5064d4fe-850f-447e-90f8-c0bdaac0aeb2",
   "metadata": {},
   "source": [
    "## Part 1: Conditional Statements\n",
    "### Basic if statement\n",
    "# Let's check if a number is positive, negative, or zero\n",
    "number = 5  # Try changing this value\n",
    "\n",
    "def check_number(number):\n",
    "    if number > 0:\n",
    "        return \"The number is Positive\"\n",
    "    elif number < 0:\n",
    "        return \"The number is Negative\"\n",
    "    else:\n",
    "        return \"The number is 0\"\n",
    "        "
   ]
  },
  {
   "cell_type": "code",
   "execution_count": 7,
   "id": "7a332588-5439-48fa-a2e7-1c651514274a",
   "metadata": {},
   "outputs": [
    {
     "data": {
      "text/plain": [
       "'The number is Positive'"
      ]
     },
     "execution_count": 7,
     "metadata": {},
     "output_type": "execute_result"
    }
   ],
   "source": [
    "check_number(57)"
   ]
  },
  {
   "cell_type": "markdown",
   "id": "1cb79fcd-fab1-4685-943b-56368a0708f4",
   "metadata": {},
   "source": [
    "check_number(-35)"
   ]
  },
  {
   "cell_type": "code",
   "execution_count": 6,
   "id": "341963c4-367b-45be-ac12-aeed708c3daf",
   "metadata": {},
   "outputs": [
    {
     "data": {
      "text/plain": [
       "'The number is 0'"
      ]
     },
     "execution_count": 6,
     "metadata": {},
     "output_type": "execute_result"
    }
   ],
   "source": [
    "check_number(0)"
   ]
  },
  {
   "cell_type": "code",
   "execution_count": 39,
   "id": "22e88646-e98e-47cf-9eb8-c15e7a58f4d2",
   "metadata": {},
   "outputs": [
    {
     "name": "stdout",
     "output_type": "stream",
     "text": [
      "Score: 95, Grade: Grade A\n",
      "Score: 82, Grade: Grade B\n",
      "Score: 71, Grade: Grade C\n",
      "Score: 65, Grade: Grade D\n",
      "Score: 55, Grade: Grade F\n"
     ]
    }
   ],
   "source": [
    "### Exercise 1: Grade Calculator\n",
    "# Write a program that converts a numerical score to a letter grade\n",
    "# 90-100: A\n",
    "# 80-89: B\n",
    "# 70-79: C\n",
    "# 60-69: D\n",
    "# Below 60: F\n",
    "\n",
    "def calculate_grade(score):\n",
    "    if score >= 90:\n",
    "        return \"Grade A\"\n",
    "    elif score >= 80:\n",
    "        return \"Grade B\"\n",
    "    elif score >= 70:\n",
    "        return \"Grade C\"\n",
    "    elif score >= 60:\n",
    "        return \"Grade D\"\n",
    "    else:\n",
    "        return \"Grade F\"\n",
    "\n",
    "\n",
    "# Test your function\n",
    "test_scores = [95, 82, 71, 65, 55]\n",
    "for score in test_scores:\n",
    "    print(f\"Score: {score}, Grade: {calculate_grade(score)}\")"
   ]
  },
  {
   "cell_type": "code",
   "execution_count": 40,
   "id": "081919ae-db6e-4452-a131-3eab15a3a37c",
   "metadata": {},
   "outputs": [
    {
     "data": {
      "text/plain": [
       "'Grade A'"
      ]
     },
     "execution_count": 40,
     "metadata": {},
     "output_type": "execute_result"
    }
   ],
   "source": [
    "calculate_grade(92)"
   ]
  },
  {
   "cell_type": "code",
   "execution_count": 24,
   "id": "5448adda-ecda-4ad5-9e4d-eb2d44e7285b",
   "metadata": {},
   "outputs": [
    {
     "data": {
      "text/plain": [
       "'Grade B'"
      ]
     },
     "execution_count": 24,
     "metadata": {},
     "output_type": "execute_result"
    }
   ],
   "source": [
    "calculate_grade(86)"
   ]
  },
  {
   "cell_type": "code",
   "execution_count": 25,
   "id": "8d8b3087-5952-4829-9c70-431afbc4743c",
   "metadata": {},
   "outputs": [
    {
     "data": {
      "text/plain": [
       "'Grade C'"
      ]
     },
     "execution_count": 25,
     "metadata": {},
     "output_type": "execute_result"
    }
   ],
   "source": [
    "calculate_grade(77)"
   ]
  },
  {
   "cell_type": "code",
   "execution_count": 26,
   "id": "e01eb074-898d-4d5b-98fb-ddf468d4b324",
   "metadata": {},
   "outputs": [
    {
     "data": {
      "text/plain": [
       "'Grade D'"
      ]
     },
     "execution_count": 26,
     "metadata": {},
     "output_type": "execute_result"
    }
   ],
   "source": [
    "calculate_grade(64)"
   ]
  },
  {
   "cell_type": "code",
   "execution_count": 27,
   "id": "7b8de5ad-eab1-4323-9cf5-f25c687a95b9",
   "metadata": {},
   "outputs": [
    {
     "data": {
      "text/plain": [
       "'Grade F'"
      ]
     },
     "execution_count": 27,
     "metadata": {},
     "output_type": "execute_result"
    }
   ],
   "source": [
    "calculate_grade(33)"
   ]
  },
  {
   "cell_type": "code",
   "execution_count": 56,
   "id": "b3ba533e-e75e-4fda-86c4-ce06430b62ad",
   "metadata": {},
   "outputs": [
    {
     "name": "stdout",
     "output_type": "stream",
     "text": [
      "initial_price:50, final_price:(50, 'no discount')\n",
      "initial_price:150, final_price:(135.0, '10% discount')\n",
      "initial_price:600, final_price:(480.0, '20% discount')\n",
      "initial_price:1200, final_price:(840.0, '30% discount')\n"
     ]
    }
   ],
   "source": [
    "### Exercise 2: Discount Calculator\n",
    "# Write a function that calculates the final price after applying a discount\n",
    "# If the purchase amount is $100 or more, apply a 10% discount\n",
    "# If the purchase amount is $500 or more, apply a 20% discount\n",
    "# If the purchase amount is $1000 or more, apply a 30% discount\n",
    "\n",
    "def discounted_amount(purchase_amount):\n",
    "    if purchase_amount >= 1000:\n",
    "        return purchase_amount - purchase_amount * 0.3, \"30% discount\"\n",
    "    elif purchase_amount >= 500:\n",
    "        return purchase_amount - purchase_amount * 0.2, \"20% discount\"\n",
    "    elif purchase_amount >= 100:\n",
    "        return purchase_amount - purchase_amount * 0.1, \"10% discount\"\n",
    "    else :\n",
    "        return purchase_amount, \"no discount\"\n",
    "\n",
    "# Test your function\n",
    "purchase_amounts = [50, 150, 600, 1200]\n",
    "for purchase_amount in purchase_amounts:\n",
    "    print(f\"initial_price:{purchase_amount}, final_price:{discounted_amount(purchase_amount)}\")"
   ]
  },
  {
   "cell_type": "code",
   "execution_count": 70,
   "id": "5ec98a88-39ea-4d61-8fb4-362e37117f96",
   "metadata": {},
   "outputs": [],
   "source": [
    "## Part 2: Functions\n",
    "### Basic function definition\n",
    "\n",
    "def greet(name):\n",
    "    return f\"Hello, {name}!\"\n"
   ]
  },
  {
   "cell_type": "code",
   "execution_count": 72,
   "id": "95589735-a14a-4f9c-81a8-8263b9c4d562",
   "metadata": {},
   "outputs": [
    {
     "data": {
      "text/plain": [
       "'Hello, Data Analyst!'"
      ]
     },
     "execution_count": 72,
     "metadata": {},
     "output_type": "execute_result"
    }
   ],
   "source": [
    "greet(\"Data Analyst\")"
   ]
  },
  {
   "cell_type": "raw",
   "id": "ddd3ffcb-f9a0-4fd1-ba25-dc6c159b2b8c",
   "metadata": {},
   "source": [
    "print(greet(\"Nidhi\"))"
   ]
  },
  {
   "cell_type": "code",
   "execution_count": 83,
   "id": "664d6cf2-c7b9-4efd-b1ad-4c65a13b0534",
   "metadata": {},
   "outputs": [
    {
     "name": "stdout",
     "output_type": "stream",
     "text": [
      "0°C = 32.0°F\n",
      "25°C = 77.0°F\n",
      "37°C = 98.6°F\n",
      "100°C = 212.0°F\n"
     ]
    }
   ],
   "source": [
    "### Exercise 3: Temperature Converter\n",
    "# Write a function that converts temperature from Celsius to Fahrenheit\n",
    "# Formula: F = C * 9/5 + 32\n",
    "\n",
    "def celsius_to_fahrenheit(celsius):\n",
    "    farenheit = celsius * 9/5 + 32\n",
    "    return farenheit\n",
    "\n",
    "    # Test your function\n",
    "\n",
    "temperatures_celsius = [0, 25, 37, 100]\n",
    "for temperature in temperatures_celsius:\n",
    "    print(f\"{temperature}°C = {celsius_to_fahrenheit(temperature):.1f}°F\")\n",
    "    "
   ]
  },
  {
   "cell_type": "code",
   "execution_count": 82,
   "id": "0fa2d8a7-e39f-4809-ad22-d87e0168adbe",
   "metadata": {},
   "outputs": [
    {
     "data": {
      "text/plain": [
       "32.0"
      ]
     },
     "execution_count": 82,
     "metadata": {},
     "output_type": "execute_result"
    }
   ],
   "source": [
    "celsius_to_fahrenheit(0)"
   ]
  },
  {
   "cell_type": "code",
   "execution_count": 106,
   "id": "f3c4c777-8d6b-4638-af08-1b95343df70d",
   "metadata": {},
   "outputs": [
    {
     "name": "stdout",
     "output_type": "stream",
     "text": [
      "15\n",
      "5\n",
      "50\n",
      "2.0\n",
      "Error, Division by 0\n"
     ]
    }
   ],
   "source": [
    "### Exercise 4: Calculator Function\n",
    "# Write a function that takes two numbers and an operation as parameters\n",
    "# Supported operations: add, subtract, multiply, divide\n",
    "# Return the result of the operation\n",
    "\n",
    "def calculator(num1, num2, operation):\n",
    "   if operation == \"add\":\n",
    "    return num1 + num2\n",
    "   elif operation == \"subtract\":\n",
    "       return num1 - num2\n",
    "   elif operation == \"multiply\":\n",
    "       return num1 * num2\n",
    "   elif operation == \"divide\":\n",
    "       if num2 == 0:\n",
    "           return \"Error, Division by 0\"\n",
    "           return num1/num2\n",
    "       else:\n",
    "           return num1/num2\n",
    "\n",
    "           \n",
    "    # Test your function\n",
    "    \n",
    "print(calculator(10, 5, \"add\"))      # Should return 15\n",
    "print(calculator(10, 5, \"subtract\")) # Should return 5\n",
    "print(calculator(10, 5, \"multiply\")) # Should return 50\n",
    "print(calculator(10, 5, \"divide\"))   # Should return 2\n",
    "print(calculator(10, 0, \"divide\"))   # Should return an error"
   ]
  },
  {
   "cell_type": "code",
   "execution_count": 103,
   "id": "058d0d9a-bd83-4e06-9d4d-cb0dc9d09fd3",
   "metadata": {},
   "outputs": [
    {
     "data": {
      "text/plain": [
       "18"
      ]
     },
     "execution_count": 103,
     "metadata": {},
     "output_type": "execute_result"
    }
   ],
   "source": [
    "calculator(15,3, \"add\")"
   ]
  },
  {
   "cell_type": "code",
   "execution_count": 104,
   "id": "eb95a1a6-2add-4819-8066-a8cbc690f322",
   "metadata": {},
   "outputs": [
    {
     "data": {
      "text/plain": [
       "19"
      ]
     },
     "execution_count": 104,
     "metadata": {},
     "output_type": "execute_result"
    }
   ],
   "source": [
    "calculator(82,63, \"subtract\")\n"
   ]
  },
  {
   "cell_type": "code",
   "execution_count": 107,
   "id": "917f1fa0-e3e8-4c52-bf7a-6c1219dc1ea4",
   "metadata": {},
   "outputs": [
    {
     "data": {
      "text/plain": [
       "104"
      ]
     },
     "execution_count": 107,
     "metadata": {},
     "output_type": "execute_result"
    }
   ],
   "source": [
    "calculator(13,8, \"multiply\")"
   ]
  },
  {
   "cell_type": "code",
   "execution_count": 108,
   "id": "0c05a069-ef65-42b1-aef5-93ac145bf3fc",
   "metadata": {},
   "outputs": [
    {
     "data": {
      "text/plain": [
       "11.6"
      ]
     },
     "execution_count": 108,
     "metadata": {},
     "output_type": "execute_result"
    }
   ],
   "source": [
    "calculator(754, 65, \"divide\")"
   ]
  },
  {
   "cell_type": "code",
   "execution_count": 109,
   "id": "180d13c6-58a3-43f0-bb86-a2c3c3b94eea",
   "metadata": {},
   "outputs": [
    {
     "data": {
      "text/plain": [
       "'Error, Division by 0'"
      ]
     },
     "execution_count": 109,
     "metadata": {},
     "output_type": "execute_result"
    }
   ],
   "source": [
    "calculator(754, 0, \"divide\")"
   ]
  },
  {
   "cell_type": "code",
   "execution_count": 110,
   "id": "149c0227-363d-4c10-9335-8f55507e0d00",
   "metadata": {},
   "outputs": [
    {
     "name": "stdout",
     "output_type": "stream",
     "text": [
      "Original list: ['apple', 'banana', 'cherry', 'date']\n",
      "First fruit: apple\n",
      "Last fruit: date\n",
      "After modification: ['apple', 'blueberry', 'cherry', 'date']\n",
      "After append: ['apple', 'blueberry', 'cherry', 'date', 'elderberry']\n",
      "Removed apple, List now: ['blueberry', 'cherry', 'date', 'elderberry']\n"
     ]
    }
   ],
   "source": [
    "## Part 3: Lists\n",
    "\n",
    "### Basic list operations\n",
    "fruits = [\"apple\", \"banana\", \"cherry\", \"date\"]\n",
    "print(\"Original list:\", fruits)\n",
    "\n",
    "# Accessing elements\n",
    "print(\"First fruit:\", fruits[0])\n",
    "print(\"Last fruit:\", fruits[-1])\n",
    "\n",
    "# Modifying the list\n",
    "fruits[1] = \"blueberry\"\n",
    "print(\"After modification:\", fruits)\n",
    "\n",
    "# Adding elements\n",
    "fruits.append(\"elderberry\")\n",
    "print(\"After append:\", fruits)\n",
    "\n",
    "# Removing elements\n",
    "removed_fruit = fruits.pop(0)\n",
    "print(f\"Removed {removed_fruit}, List now:\", fruits)"
   ]
  },
  {
   "cell_type": "code",
   "execution_count": 121,
   "id": "217d5f94-9d31-4d97-8326-497969156995",
   "metadata": {},
   "outputs": [
    {
     "name": "stdout",
     "output_type": "stream",
     "text": [
      "Statistics: None\n"
     ]
    }
   ],
   "source": [
    "\n",
    "### Exercise 5: List Statistics\n",
    "# Write a function that takes a list of numbers and returns a dictionary with:\n",
    "# - The minimum value\n",
    "# - The maximum value\n",
    "# - The average value\n",
    "# - The sum of all values\n",
    " \n",
    "def calculate_statistics(numbers):\n",
    "    for number in numbers:\n",
    "        number ={\n",
    "            \"minimum\": min(numbers),\n",
    "            \"maximum\": max(numbers),\n",
    "            \"average\": sum(numbers) / len(numbers),\n",
    "            \"total\": sum(numbers)\n",
    "        }\n",
    "        \n",
    "    # Test your function\n",
    "test_numbers = [5, 12, 8, 42, 23, 16]\n",
    "\n",
    "stats = calculate_statistics(test_numbers)\n",
    "print(\"Statistics:\", stats)"
   ]
  },
  {
   "cell_type": "code",
   "execution_count": 142,
   "id": "b5dfad26-8726-49ed-939c-d38c77add7bf",
   "metadata": {},
   "outputs": [
    {
     "name": "stdout",
     "output_type": "stream",
     "text": [
      "Even numbers: [2, 4, 6, 8, 10]\n"
     ]
    }
   ],
   "source": [
    "### Exercise 6: List Filtering\n",
    "# Write a function that takes a list of numbers and returns a new list containing only even numbers\n",
    "\n",
    "def filter_even_numbers(numbers):\n",
    "\n",
    "    even_numbers =[]\n",
    "    for num in numbers:\n",
    "        if num % 2 == 0:   #checking even numbers\n",
    "            even_numbers.append(num)\n",
    "    return even_numbers\n",
    "\n",
    "        #Test your function\n",
    "numbers = [1, 2, 3, 4, 5, 6, 7, 8, 9, 10]\n",
    "even_numbers = filter_even_numbers(numbers)\n",
    "print(\"Even numbers:\", even_numbers)"
   ]
  },
  {
   "cell_type": "code",
   "execution_count": 144,
   "id": "22fb386c-4b9a-4821-a760-ad09896f1549",
   "metadata": {},
   "outputs": [
    {
     "name": "stdout",
     "output_type": "stream",
     "text": [
      "Student info: {'name': 'Alex', 'age': 23, 'major': 'Data Science', 'gpa': 3.8}\n",
      "Name: Alex\n",
      "Major: Data Science\n",
      "Updated student info: {'name': 'Alex', 'age': 23, 'major': 'Data Science', 'gpa': 3.9, 'year': 'Senior'}\n",
      "Removed age: 23, Student info now: {'name': 'Alex', 'major': 'Data Science', 'gpa': 3.9, 'year': 'Senior'}\n"
     ]
    }
   ],
   "source": [
    "## Part 4: Dictionaries\n",
    "### Basic dictionary operations\n",
    "student = {\n",
    "    \"name\": \"Alex\",\n",
    "    \"age\": 23,\n",
    "    \"major\": \"Data Science\",\n",
    "    \"gpa\": 3.8\n",
    "}\n",
    "\n",
    "print(\"Student info:\", student)\n",
    "\n",
    "# Accessing values\n",
    "print(\"Name:\", student[\"name\"])\n",
    "print(\"Major:\", student.get(\"major\"))\n",
    "\n",
    "# Adding or modifying key-value pairs\n",
    "student[\"year\"] = \"Senior\"\n",
    "student[\"gpa\"] = 3.9\n",
    "print(\"Updated student info:\", student)\n",
    "\n",
    "# Removing key-value pairs\n",
    "removed_age = student.pop(\"age\")\n",
    "print(f\"Removed age: {removed_age}, Student info now:\", student)"
   ]
  },
  {
   "cell_type": "code",
   "execution_count": 155,
   "id": "d096c9e0-efe7-4c31-9f15-79e4032993a0",
   "metadata": {},
   "outputs": [
    {
     "name": "stdout",
     "output_type": "stream",
     "text": [
      "Word counts: {'the': 4, 'quick': 2, 'brown': 1, 'fox': 2, 'jumps': 1, 'over': 1, 'lazy': 2, 'dog': 2, 'was': 2, 'and': 1}\n"
     ]
    }
   ],
   "source": [
    "### Exercise 7: Word Counter\n",
    "# Write a function that takes a string and returns a dictionary with each word as a key\n",
    "# and the number of occurrences as the value\n",
    "\n",
    "def count_words(text):\n",
    "    words = text.lower().split()     #turns every word into lowercase to make it case-insensitive and\n",
    "                      686               #.split breaks the big string (sentence or paragraph) into individual words before counting\n",
    "\n",
    "    word_counts = {}\n",
    "    for word in words:\n",
    "        word = word.strip(\".,!?;:'\\\"()[]{}\")      #removes punctuation so they are not counted\n",
    "        if word in word_counts:\n",
    "            word_counts[word] += 1             #If the word is already in the dictionary,it increases its count by 1\n",
    "        else:\n",
    "            word_counts[word] = 1              #if not in the dictionary,it creates a new entry with the count starting at 1\n",
    "    \n",
    "    return word_counts\n",
    "    \n",
    "\n",
    "# Test your function\n",
    "sample_text = \"The quick brown fox jumps over the lazy dog. The fox was quick and the dog was lazy.\"\n",
    "word_counts = count_words(sample_text)\n",
    "print(\"Word counts:\", word_counts)"
   ]
  },
  {
   "cell_type": "code",
   "execution_count": 22,
   "id": "078f3255-39ce-44a2-a287-0f8ce5fd5ec6",
   "metadata": {},
   "outputs": [
    {
     "name": "stdout",
     "output_type": "stream",
     "text": [
      "added contact:Alice ,555-1234\n",
      "added contact:Bob ,555-5678\n",
      "Contact Nidhi not found\n",
      "{'phone': '555-1234', 'email': 'alice@example.com'}\n",
      "updated_contact:Alice, alice.new@example.com\n",
      "{'phone': '555-1234', 'email': 'alice.new@example.com'}\n",
      "Contact Charlie not found\n"
     ]
    }
   ],
   "source": [
    "### Exercise 8: Contact Manager\n",
    "# Create a small contact manager that lets you add, update, and retrieve contact information\n",
    "\n",
    "contact_book = {}\n",
    "\n",
    "def add_contact(name, phone, email=None):\n",
    "    contact_book[name] = {\"phone\": phone, \"email\":email}\n",
    "    return f\"added contact:{name} ,{phone}\"\n",
    "\n",
    "\n",
    "def update_contact(name, phone=None, email=None):\n",
    "    if name not in contact_book:\n",
    "      return f\"Contact {name} not found\"\n",
    "        \n",
    "    if email is not None:\n",
    "      contact_book[name][\"email\"] = email\n",
    "    return f\"updated_contact:{name}, {email}\"\n",
    "    \n",
    "    if phone is not None:\n",
    "        contact_book[name][phone] = phone\n",
    "        return f\"updated_contact:{name}, {phone}\"\n",
    "    \n",
    "\n",
    "def get_contact(name):\n",
    "    return contact_book.get(name, f\"Contact {name} not found\")\n",
    "\n",
    "\n",
    "# get -function that will return contact name\n",
    "\n",
    "    \n",
    "# Test your contact manager\n",
    "print(add_contact(\"Alice\", \"555-1234\", \"alice@example.com\"))\n",
    "print(add_contact(\"Bob\", \"555-5678\"))\n",
    "print(update_contact(\"Nidhi\"))\n",
    "\n",
    "print(get_contact(\"Alice\"))\n",
    "print(update_contact(\"Alice\", email=\"alice.new@example.com\"))\n",
    "print(get_contact(\"Alice\"))\n",
    "print(get_contact(\"Charlie\"))"
   ]
  },
  {
   "cell_type": "code",
   "execution_count": 21,
   "id": "12769c0e-5e3c-4528-9f63-4d37a13dee4c",
   "metadata": {},
   "outputs": [
    {
     "name": "stdout",
     "output_type": "stream",
     "text": [
      "Iterating through a list:\n",
      "Color: red\n",
      "Color: green\n",
      "Color: blue\n",
      "Color: yellow\n",
      "\n",
      "Using range():\n",
      "Number: 0\n",
      "Number: 1\n",
      "Number: 2\n",
      "Number: 3\n",
      "Number: 4\n",
      "\n",
      "Using a while loop:\n",
      "Count: 0\n",
      "Count: 1\n",
      "Count: 2\n",
      "Count: 3\n",
      "Count: 4\n"
     ]
    }
   ],
   "source": [
    "## Part 5: Loops\n",
    "### For loop with a list\n",
    "print(\"Iterating through a list:\")\n",
    "colors = [\"red\", \"green\", \"blue\", \"yellow\"]\n",
    "for color in colors:\n",
    "    print(f\"Color: {color}\")\n",
    "\n",
    "### For loop with range\n",
    "print(\"\\nUsing range():\")\n",
    "for i in range(5):\n",
    "    print(f\"Number: {i}\")\n",
    "\n",
    "### While loop\n",
    "print(\"\\nUsing a while loop:\")\n",
    "count = 0\n",
    "while count < 5:\n",
    "    print(f\"Count: {count}\")\n",
    "    count += 1"
   ]
  },
  {
   "cell_type": "code",
   "execution_count": 14,
   "id": "e6c79bb5-c8ae-43b7-a40a-c3a40d18b062",
   "metadata": {},
   "outputs": [
    {
     "name": "stdout",
     "output_type": "stream",
     "text": [
      "Factorial of 0 = 1\n",
      "Factorial of 1 = 1\n",
      "Factorial of 2 = 2\n",
      "Factorial of 3 = 6\n",
      "Factorial of 4 = 24\n",
      "Factorial of 5 = 120\n"
     ]
    }
   ],
   "source": [
    "### Exercise 9: Factorial Calculator\n",
    "# Write a function that calculates the factorial of a number using a loop\n",
    "# Factorial of n = n * (n-1) * (n-2) * ... * 1\n",
    "\n",
    "def factorial(n):\n",
    "    # Your code here\n",
    "    if n < 0:\n",
    "        return \"Error\"\n",
    "        \n",
    "    result = 1\n",
    "    for i in range(1,n + 1):\n",
    "       result = result * i\n",
    "    return result\n",
    "\n",
    "    # if n == 0 or n == 1:\n",
    "    #     return 1\n",
    "    # else:\n",
    "    #     return n * factorial(n - 1)\n",
    "       \n",
    "     \n",
    "# Test your function\n",
    "for num in range(6):\n",
    "    print(f\"Factorial of {num} = {factorial(num)}\")"
   ]
  },
  {
   "cell_type": "code",
   "execution_count": 33,
   "id": "c4a547a3-2bbc-425f-825b-3894fe2a9889",
   "metadata": {},
   "outputs": [
    {
     "ename": "NameError",
     "evalue": "name 'scores' is not defined",
     "output_type": "error",
     "traceback": [
      "\u001b[1;31m---------------------------------------------------------------------------\u001b[0m",
      "\u001b[1;31mNameError\u001b[0m                                 Traceback (most recent call last)",
      "Cell \u001b[1;32mIn[33], line 23\u001b[0m\n\u001b[0;32m     18\u001b[0m   \u001b[38;5;28;01mreturn\u001b[39;00m \u001b[38;5;124mf\u001b[39m\u001b[38;5;124m\"\u001b[39m\u001b[38;5;132;01m{\u001b[39;00mname\u001b[38;5;132;01m}\u001b[39;00m\u001b[38;5;124m, average score: \u001b[39m\u001b[38;5;132;01m{\u001b[39;00maverage_score\u001b[38;5;132;01m}\u001b[39;00m\u001b[38;5;124m\"\u001b[39m\n\u001b[0;32m     22\u001b[0m \u001b[38;5;66;03m# Test your function\u001b[39;00m\n\u001b[1;32m---> 23\u001b[0m analysis \u001b[38;5;241m=\u001b[39m analyze_student_scores(students_data)\n\u001b[0;32m     24\u001b[0m \u001b[38;5;66;03m# print(\"\\nStudent Analysis:\")\u001b[39;00m\n\u001b[0;32m     25\u001b[0m \u001b[38;5;28mprint\u001b[39m(\u001b[38;5;124m\"\u001b[39m\u001b[38;5;124mIndividual Averages:\u001b[39m\u001b[38;5;124m\"\u001b[39m)\n",
      "Cell \u001b[1;32mIn[33], line 17\u001b[0m, in \u001b[0;36manalyze_student_scores\u001b[1;34m(students)\u001b[0m\n\u001b[0;32m     15\u001b[0m   name \u001b[38;5;241m=\u001b[39m student [\u001b[38;5;124m\"\u001b[39m\u001b[38;5;124mname\u001b[39m\u001b[38;5;124m\"\u001b[39m]\n\u001b[0;32m     16\u001b[0m   score \u001b[38;5;241m=\u001b[39m student [\u001b[38;5;124m\"\u001b[39m\u001b[38;5;124mscores\u001b[39m\u001b[38;5;124m\"\u001b[39m]\n\u001b[1;32m---> 17\u001b[0m   average_score \u001b[38;5;241m=\u001b[39m \u001b[38;5;28msum\u001b[39m(scores) \u001b[38;5;241m/\u001b[39m \u001b[38;5;28mlen\u001b[39m(scores)\n\u001b[0;32m     18\u001b[0m \u001b[38;5;28;01mreturn\u001b[39;00m \u001b[38;5;124mf\u001b[39m\u001b[38;5;124m\"\u001b[39m\u001b[38;5;132;01m{\u001b[39;00mname\u001b[38;5;132;01m}\u001b[39;00m\u001b[38;5;124m, average score: \u001b[39m\u001b[38;5;132;01m{\u001b[39;00maverage_score\u001b[38;5;132;01m}\u001b[39;00m\u001b[38;5;124m\"\u001b[39m\n",
      "\u001b[1;31mNameError\u001b[0m: name 'scores' is not defined"
     ]
    }
   ],
   "source": [
    "### Exercise 10: Data Analysis\n",
    "# You're given a list of dictionaries, each representing a student's score on different tests.\n",
    "# Calculate the average score for each student and identify the student with the highest average.\n",
    "\n",
    "students_data = [\n",
    "    {\"name\": \"Alice\", \"scores\": [88, 92, 95, 85]},\n",
    "    {\"name\": \"Bob\", \"scores\": [90, 87, 88, 81]},\n",
    "    {\"name\": \"Charlie\", \"scores\": [92, 95, 96, 93]},\n",
    "    {\"name\": \"David\", \"scores\": [78, 85, 91, 89]}\n",
    "]\n",
    "\n",
    "def analyze_student_scores(students):\n",
    "    \n",
    "  for student in students_data:\n",
    "    name = student [\"name\"]\n",
    "    score = student [\"scores\"]\n",
    "    average_score = sum(scores) / len(scores)\n",
    "  return f\"{name}, average score: {average_score}\"\n",
    "\n",
    "\n",
    "    \n",
    "# Test your function\n",
    "analysis = analyze_student_scores(students_data)\n",
    "# print(\"\\nStudent Analysis:\")\n",
    "print(\"Individual Averages:\")\n",
    "\n",
    "\n",
    "# for name, avg in analysis[\"individual_averages\"].items():\n",
    "#     print(f\"  {name}: {avg:.2f}\")\n",
    "# print(f\"Top Student: {analysis['top_student']} with average of {analysis['top_average']:.2f}\")"
   ]
  },
  {
   "cell_type": "code",
   "execution_count": 165,
   "id": "a0c9db77-f2f3-4642-9af7-4e8bf505c257",
   "metadata": {},
   "outputs": [
    {
     "ename": "IndentationError",
     "evalue": "expected an indented block after function definition on line 18 (2276555171.py, line 31)",
     "output_type": "error",
     "traceback": [
      "\u001b[1;36m  Cell \u001b[1;32mIn[165], line 31\u001b[1;36m\u001b[0m\n\u001b[1;33m    sales_analysis = analyze_sales(sales_data)\u001b[0m\n\u001b[1;37m    ^\u001b[0m\n\u001b[1;31mIndentationError\u001b[0m\u001b[1;31m:\u001b[0m expected an indented block after function definition on line 18\n"
     ]
    }
   ],
   "source": [
    "## Final Challenge: Sales Data Analysis\n",
    "\n",
    "# You're given a list of dictionaries representing monthly sales data for a store.\n",
    "# Each dictionary contains the month, category, and sales amount.\n",
    "\n",
    "sales_data = [\n",
    "    {\"month\": \"Jan\", \"category\": \"Electronics\", \"amount\": 1200},\n",
    "    {\"month\": \"Jan\", \"category\": \"Books\", \"amount\": 850},\n",
    "    {\"month\": \"Jan\", \"category\": \"Clothing\", \"amount\": 980},\n",
    "    {\"month\": \"Feb\", \"category\": \"Electronics\", \"amount\": 1450},\n",
    "    {\"month\": \"Feb\", \"category\": \"Books\", \"amount\": 920},\n",
    "    {\"month\": \"Feb\", \"category\": \"Clothing\", \"amount\": 1050},\n",
    "    {\"month\": \"Mar\", \"category\": \"Electronics\", \"amount\": 1600},\n",
    "    {\"month\": \"Mar\", \"category\": \"Books\", \"amount\": 780},\n",
    "    {\"month\": \"Mar\", \"category\": \"Clothing\", \"amount\": 1200}\n",
    "]\n",
    "\n",
    "def analyze_sales(sales):\n",
    "    # Step 1 Calculate total sales per month\n",
    "    monthly_sales = {}\n",
    "    for \n",
    "    \n",
    "    # Step 2 Calculate total sales per category\n",
    "    \n",
    "    \n",
    "    # Step 3 Find the best performing month and category\n",
    "        \n",
    "    # Step 4 Calculate overall total sales\n",
    "    \n",
    "\n",
    "# Test your analysis function\n",
    "sales_analysis = analyze_sales(sales_data)\n",
    "print(\"\\nSales Analysis:\")\n",
    "print(\"Monthly Sales:\")\n",
    "for month, amount in sales_analysis[\"monthly_sales\"].items():\n",
    "    print(f\"  {month}: ${amount}\")\n",
    "print(\"\\nCategory Sales:\")\n",
    "for category, amount in sales_analysis[\"category_sales\"].items():\n",
    "    print(f\"  {category}: ${amount}\")\n",
    "print(f\"\\nBest Month: {sales_analysis['best_month']} with ${sales_analysis['monthly_sales'][sales_analysis['best_month']]}\")\n",
    "print(f\"Best Category: {sales_analysis['best_category']} with ${sales_analysis['category_sales'][sales_analysis['best_category']]}\")\n",
    "print(f\"Total Sales: ${sales_analysis['total_sales']}\")"
   ]
  },
  {
   "cell_type": "code",
   "execution_count": null,
   "id": "17f2e183-d221-4e31-89b6-249e41d42d7e",
   "metadata": {},
   "outputs": [],
   "source": []
  }
 ],
 "metadata": {
  "kernelspec": {
   "display_name": "Python [conda env:base] *",
   "language": "python",
   "name": "conda-base-py"
  },
  "language_info": {
   "codemirror_mode": {
    "name": "ipython",
    "version": 3
   },
   "file_extension": ".py",
   "mimetype": "text/x-python",
   "name": "python",
   "nbconvert_exporter": "python",
   "pygments_lexer": "ipython3",
   "version": "3.13.5"
  }
 },
 "nbformat": 4,
 "nbformat_minor": 5
}
